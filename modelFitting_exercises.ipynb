{
 "cells": [
  {
   "cell_type": "markdown",
   "metadata": {},
   "source": [
    "# Exercises on model ftting\n",
    "\n",
    "This notebook is a set of exercises that you might like to try having worked through the model_fitting notebook which introduced you to finding an optimised 'fit' of a mathematical model to experimental data.\n",
    "\n",
    "If you can cope with these you should be able to manaage any of the data fitting activities that you will come across in the rest of the module.\n",
    "\n",
    "**SOLUTIONS are provided at the end, but it is highly recommended that you don't actually look at them until you've had a go yourself. To help in that respect, the exercises are setou at the top of the notebook and solutions given at the end. Do note these are really bate-bones solutions with little or no error checking.**\n"
   ]
  },
  {
   "cell_type": "markdown",
   "metadata": {},
   "source": [
    "## Exercise 1 - Simple Hookes Law\n",
    "\n",
    "The provided data file, 'hooke.csv' contains data collected from an experiment designed to find hooke's spring constant value for a test spring. The set up measured the total length of the spring ('l' in the file, measured in m) at a variety of forces ('f' in the file, measured as N).\n",
    "\n",
    "Hookes law states that:\n",
    "\n",
    "$$ F = -k x $$\n",
    "\n",
    "where F is the applied force and x is the extension.\n",
    "\n",
    "Use scipy.linregress() to work out 2 things:\n",
    "\n",
    "1. The original, unloaded, length of the spring\n",
    "2. Its spring constant, k\n",
    "\n",
    "NOTE \n",
    "1. There is some uncertainty in the 'l' measurement - ignore that for the moment\n",
    "2. The 'l' measurement is the TOTAL length of the spring at rest + its extension."
   ]
  },
  {
   "cell_type": "markdown",
   "metadata": {},
   "source": [
    "## Exercise 2 - Hooke's Law with errors\n",
    "\n",
    "Repeat the above but get estimates for the accuracy of both values. Does the fact that we're told that the lengths are measured to +/- 5mm make any difference?\n"
   ]
  },
  {
   "cell_type": "markdown",
   "metadata": {},
   "source": [
    "## Exercise 3 - 'g' on Mars\n",
    "\n",
    "There is a 'standard' Physics methodolgy to measure the acceleration due to gravity (g) using a simple pendulum. This relates the time period (T) for a simple pendulum (mass on a string) to it's length, l (for small displacements). This is:\n",
    "\n",
    "$$ {T} = {2\\pi \\sqrt{{l}\\over{g}}} $$\n",
    "\n",
    "We've been given exclusive access to a secret manned mission to mars and been provided with measured data that contains values for T (seconds) and l (metres) with associated errors, taken on the surface of Mars.\n",
    "\n",
    "Rather than give you a data file, the measured data is:\n",
    "\n",
    "`l = [0.5, 0.75, 1.0, 1.25, 1.5, 1.75, 2.0]\n",
    " T = [2.307051264, 2.825549203, 3.262663186, 3.647768336, 3.995930005, 4.316097701, 4.614102528]`\n",
    "\n",
    "What is 'g' on Mars? \n",
    "NOTE: You could rearange the equation to get a straight line and use the code above. HOWEVER, that would be too easy (and uneccesary with appropriate coding)so do it by declaring the function as it appears above.\n"
   ]
  },
  {
   "cell_type": "markdown",
   "metadata": {},
   "source": [
    "\n",
    "## Exercise 4 - 'g' with errors!\n",
    "\n",
    "Due to operational difficulties, the length measurements taken were only accuarte to +/- 10cm and the timings to +/- 0.2 seconds.\n",
    "\n",
    "Calculate the result, along with an uncertainty, using this information.\n"
   ]
  },
  {
   "cell_type": "markdown",
   "metadata": {},
   "source": [
    "# Solutions"
   ]
  },
  {
   "cell_type": "markdown",
   "metadata": {},
   "source": [
    "### Exercise 1"
   ]
  },
  {
   "cell_type": "code",
   "execution_count": 63,
   "metadata": {},
   "outputs": [
    {
     "data": {
      "text/html": [
       "<div>\n",
       "<style scoped>\n",
       "    .dataframe tbody tr th:only-of-type {\n",
       "        vertical-align: middle;\n",
       "    }\n",
       "\n",
       "    .dataframe tbody tr th {\n",
       "        vertical-align: top;\n",
       "    }\n",
       "\n",
       "    .dataframe thead th {\n",
       "        text-align: right;\n",
       "    }\n",
       "</style>\n",
       "<table border=\"1\" class=\"dataframe\">\n",
       "  <thead>\n",
       "    <tr style=\"text-align: right;\">\n",
       "      <th></th>\n",
       "      <th>f</th>\n",
       "      <th>l</th>\n",
       "    </tr>\n",
       "  </thead>\n",
       "  <tbody>\n",
       "    <tr>\n",
       "      <th>0</th>\n",
       "      <td>5</td>\n",
       "      <td>0.334</td>\n",
       "    </tr>\n",
       "    <tr>\n",
       "      <th>1</th>\n",
       "      <td>7</td>\n",
       "      <td>0.357</td>\n",
       "    </tr>\n",
       "    <tr>\n",
       "      <th>2</th>\n",
       "      <td>9</td>\n",
       "      <td>0.374</td>\n",
       "    </tr>\n",
       "    <tr>\n",
       "      <th>3</th>\n",
       "      <td>11</td>\n",
       "      <td>0.397</td>\n",
       "    </tr>\n",
       "    <tr>\n",
       "      <th>4</th>\n",
       "      <td>13</td>\n",
       "      <td>0.415</td>\n",
       "    </tr>\n",
       "  </tbody>\n",
       "</table>\n",
       "</div>"
      ],
      "text/plain": [
       "    f      l\n",
       "0   5  0.334\n",
       "1   7  0.357\n",
       "2   9  0.374\n",
       "3  11  0.397\n",
       "4  13  0.415"
      ]
     },
     "execution_count": 63,
     "metadata": {},
     "output_type": "execute_result"
    }
   ],
   "source": [
    "import pandas as pd\n",
    "from scipy.stats import linregress\n",
    "\n",
    "df = pd.read_csv('hooke.csv')\n",
    "df.head()"
   ]
  },
  {
   "cell_type": "markdown",
   "metadata": {},
   "source": [
    "Now, we need to do a bit of rearranging of the formula to get the results we need. In our case, l = L + x (length of spring + extension), and we know that f = k\\*x (we can ignore the -) so using this and rearranging we get:\n",
    "\n",
    "$$ {l} = {\\Big({{1} \\over{k}}\\Big)F + L} $$\n",
    "\n",
    "So if we 'plot' l against F and do the regression fit, the gradient will be equal to 1/k and the intercept will be the unloaded spring length"
   ]
  },
  {
   "cell_type": "code",
   "execution_count": 64,
   "metadata": {},
   "outputs": [
    {
     "name": "stdout",
     "output_type": "stream",
     "text": [
      "Intercept is 0.27871428571428575, Gradient is 0.010857142857142857\n",
      "So, we have: spring constant is 92.1053 N/m and spring length is 27.87 cm\n"
     ]
    }
   ],
   "source": [
    "m,c,r_val,p_val,sterr = linregress(df['f'],df['l'])\n",
    "\n",
    "print(f'Intercept is {c}, Gradient is {m}')\n",
    "print(f'So, we have: spring constant is {1/m:.4f} N/m and spring length is {c*100:.2f} cm')"
   ]
  },
  {
   "cell_type": "markdown",
   "metadata": {},
   "source": [
    "### Exercise 2"
   ]
  },
  {
   "cell_type": "code",
   "execution_count": 65,
   "metadata": {},
   "outputs": [
    {
     "name": "stdout",
     "output_type": "stream",
     "text": [
      "fit parameter 1-sigma error\n",
      "***************************************************\n",
      "m = 0.010857 +- 0.0002570\n",
      "c = 0.278714 +- 0.0033011\n",
      "***************************************************\n",
      "Length of spring is 27.9 ± 0.3 cm\n",
      "Spring constant is 92 ± 2 N/m\n"
     ]
    }
   ],
   "source": [
    "import numpy as np\n",
    "import pandas as pd\n",
    "from scipy.optimize import curve_fit\n",
    "\n",
    "# Define a simple, straight line model\n",
    "def stLineFit(x, m, c):\n",
    "    return (m*x + c)\n",
    "\n",
    "df = pd.read_csv('hooke.csv')\n",
    "df.head()\n",
    "\n",
    "# Errors uncommenet to get error array\n",
    "# err = [.005, .005, .005, .005, .005, .005, .005, .005]\n",
    "\n",
    "\n",
    "# Do the fit\n",
    "popt, pcov = curve_fit(stLineFit, df['f'],df['l'])\n",
    "# Comment above and uncomment below to get fit including errors\n",
    "# popt, pcov = curve_fit(stLineFit, df['f'],df['l'], sigma=err, absolute_sigma=True)\n",
    "\n",
    "# Calculate the 'accuracy' of the returned parameters\n",
    "perr = np.sqrt(np.diag(pcov)) # error values are on the covariance matrix diagonal\n",
    "\n",
    "# Now we can print out the optimised fit parameters and 1-sigma estimates\n",
    "print('fit parameter 1-sigma error')\n",
    "print('***************************************************')\n",
    "print (f'm = {popt[0]:.6f} +- {perr[0]:.7f}')\n",
    "print (f'c = {popt[1]:.6f} +- {perr[1]:.7f}')\n",
    "print('***************************************************')\n",
    "\n",
    "print(f'Length of spring is {popt[1]*100:.1f} \\u00B1 {perr[1]*100:.1f} cm')\n",
    "print(f'Spring constant is {1/popt[0]:.0f} \\u00B1 {perr[0]/popt[0]/popt[0]:.0f} N/m')"
   ]
  },
  {
   "cell_type": "markdown",
   "metadata": {},
   "source": [
    "### Exercise 3"
   ]
  },
  {
   "cell_type": "code",
   "execution_count": 66,
   "metadata": {},
   "outputs": [
    {
     "name": "stdout",
     "output_type": "stream",
     "text": [
      "g on Mars is 3.71 m/s\n"
     ]
    }
   ],
   "source": [
    "import pandas as pd\n",
    "import numpy as np\n",
    "from scipy.optimize import curve_fit\n",
    "\n",
    "# Define a simple function relating l to T\n",
    "def gFit(length, accel):\n",
    "    return (2*np.pi*np.sqrt(length/accel))\n",
    "\n",
    "# Data\n",
    "l = [0.5, 0.75, 1.0, 1.25, 1.5, 1.75, 2.0]\n",
    "T = [2.307051264, 2.825549203, 3.262663186, 3.647768336, 3.995930005, 4.316097701, 4.614102528]\n",
    "\n",
    "# Do the fit\n",
    "popt, pcov = curve_fit(gFit, l, T)\n",
    "\n",
    "# Result!\n",
    "print(f'g on Mars is {popt[0]:.2f} m/s')"
   ]
  },
  {
   "cell_type": "markdown",
   "metadata": {},
   "source": [
    "### Exercise 4"
   ]
  },
  {
   "cell_type": "code",
   "execution_count": 67,
   "metadata": {},
   "outputs": [
    {
     "name": "stdout",
     "output_type": "stream",
     "text": [
      "g on Mars is 3.8 ± 0.2 m/s\n"
     ]
    }
   ],
   "source": [
    "import numpy as np\n",
    "from scipy import odr\n",
    "\n",
    "# As before - but note the change in parameter order\n",
    "def gFitODR(accel, length):\n",
    "    return (2*np.pi*np.sqrt(length/accel))\n",
    "\n",
    "# Data\n",
    "l = [0.55, 0.8, 1.0, 1.27, 1.54, 1.65, 2.10]\n",
    "T = [2.30, 2.9, 3.22, 3.65, 3.91, 4.36, 4.60]\n",
    "\n",
    "\n",
    "# We also need the x and y errors \n",
    "l_err = [.1,.1,.1,.1,.1,.1,.1]\n",
    "T_err = [.2,.2,.2,.2,.2,.2,.2] \n",
    "\n",
    "# Need to use scipy 'odr' model for fitting. \n",
    "model = odr.Model(gFitODR)\n",
    "# Form an odr 'RealData' object\n",
    "rdata = odr.RealData(l,T,sx=l_err,sy=T_err)\n",
    "\n",
    "# We need an initial 'guess' 'g' - say 5\n",
    "init_guess = [5] # Needs to be in list form\n",
    "\n",
    "# Now set up the ODR, \n",
    "odr=odr.ODR(rdata, model, beta0=init_guess )\n",
    "# Run it and get the results\n",
    "result_outputs = odr.run()\n",
    "\n",
    "# Extract the data we need\n",
    "popt = result_outputs.beta\n",
    "perr = np.sqrt(np.diag(result_outputs.cov_beta))\n",
    "\n",
    "# print the results\n",
    "print(f'g on Mars is {popt[0]:.1f} \\u00B1 {perr[0]:.1f} m/s')"
   ]
  },
  {
   "cell_type": "code",
   "execution_count": null,
   "metadata": {},
   "outputs": [],
   "source": []
  }
 ],
 "metadata": {
  "kernelspec": {
   "display_name": "Python 3",
   "language": "python",
   "name": "python3"
  },
  "language_info": {
   "codemirror_mode": {
    "name": "ipython",
    "version": 3
   },
   "file_extension": ".py",
   "mimetype": "text/x-python",
   "name": "python",
   "nbconvert_exporter": "python",
   "pygments_lexer": "ipython3",
   "version": "3.7.3"
  }
 },
 "nbformat": 4,
 "nbformat_minor": 2
}
