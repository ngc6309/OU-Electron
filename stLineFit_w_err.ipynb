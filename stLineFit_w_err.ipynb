{
 "cells": [
  {
   "cell_type": "markdown",
   "metadata": {},
   "source": [
    "# Straight line fit to data with 'noise' in both x and y\n",
    "\n",
    "Uses scipy.ode (rather than curve_fit as we've used before)\n",
    "\n",
    "Linear regression tries to minimise the sum of the aquares of the 'error'. In 'usual' use (as in curve_fit), the error is the 'y' value residual measured to the fitted line. This is fine unless we have errors in both y AND x. In this case it is better to use the orthoganal distance from the data point to the fitted line - Orthogonal Distance Regression (ODR). So, here we use the scipy odr() function.\n",
    "\n",
    "I've generatted some 'noisy' data for use here.\n",
    "\n",
    "Based on https://micropore.wordpress.com/2017/02/07/python-fit-with-error-on-both-axis/\n",
    "and http://blog.rtwilson.com/orthogonal-distance-regression-in-python/\n"
   ]
  },
  {
   "cell_type": "code",
   "execution_count": 80,
   "metadata": {},
   "outputs": [
    {
     "data": {
      "text/plain": [
       "Index(['xdat', 'ydat', 'xerr', 'yerr'], dtype='object')"
      ]
     },
     "execution_count": 80,
     "metadata": {},
     "output_type": "execute_result"
    },
    {
     "data": {
      "text/plain": [
       "<ErrorbarContainer object of 3 artists>"
      ]
     },
     "execution_count": 80,
     "metadata": {},
     "output_type": "execute_result"
    },
    {
     "name": "stdout",
     "output_type": "stream",
     "text": [
      "fit parameter 1-sigma error\n",
      "***************************************************\n",
      "m = 2.3978746524767756 +- 0.050544299487579346\n",
      "c = 0.1398599998038662 +- 0.3182244420068162\n",
      "***************************************************\n"
     ]
    },
    {
     "data": {
      "text/plain": [
       "[<matplotlib.lines.Line2D at 0x1bf3e9f4fd0>]"
      ]
     },
     "execution_count": 80,
     "metadata": {},
     "output_type": "execute_result"
    },
    {
     "data": {
      "image/png": "[encoded data removed]",
      "text/plain": [
       "<Figure size 432x288 with 1 Axes>"
      ]
     },
     "metadata": {
      "needs_background": "light"
     },
     "output_type": "display_data"
    }
   ],
   "source": [
    "import numpy as np\n",
    "import pandas as pd\n",
    "import matplotlib.pyplot as plt\n",
    "from scipy.optimize import curve_fit\n",
    "from scipy import odr\n",
    "\n",
    "from scipy.stats import linregress\n",
    "\n",
    "# These 2 lines just allow 'pretty' printing of pandas stuff - non-essential\n",
    "from IPython.core.interactiveshell import InteractiveShell\n",
    "InteractiveShell.ast_node_interactivity = \"all\"\n",
    "\n",
    "\n",
    "# Just a simple function to return a straight line for use in ODR.\n",
    "def stLine(p,x):\n",
    "    # 'p' is alist containing 'm' and 'c'\n",
    "    m,c = p\n",
    "    return m * x  + c\n",
    "\n",
    "# Read in the data\n",
    "df = pd.read_csv('stLine_err.csv')\n",
    "\n",
    "# What column indices do we have? - just for info\n",
    "df.columns\n",
    "\n",
    "# Set up x,y,xerrors, yerrors\n",
    "x=df['xdat']\n",
    "y=df['ydat']\n",
    "xerror=df['xerr']\n",
    "yerror=df['yerr']\n",
    "\n",
    "# Plot it with error bars\n",
    "plt.errorbar(x, y, yerr=yerror, xerr=xerror, hold=True, ecolor='k', fmt='none')\n",
    "\n",
    "# Need to use scipy 'odr' model for fitting. Looks like 'curve_fit' only considers y errors\n",
    "model = odr.Model(stLine)\n",
    "# Form an odr 'RealData' object\n",
    "rdata = odr.RealData(x,y,sx=xerror,sy=yerror)\n",
    "# Now set up the ODR, \n",
    "# We need an initial 'guess' of m and c - beta0 \n",
    "# We could 'hard wire' this but as we now we are looking at a straight line,\n",
    "# we'll use scipy.stats.linregress() to get an estimate.\n",
    "# We need the first 2 elemts returnes which are slope and intercept (m and c)\n",
    "init_guess = linregress(x,y)[0:2]\n",
    "odr=odr.ODR(rdata, model, beta0=init_guess )\n",
    "\n",
    "# Run it and get the results\n",
    "result_outputs = odr.run()\n",
    "\n",
    "# Extract the data we need\n",
    "popt= result_outputs.beta\n",
    "perr= result_outputs.sd_beta\n",
    "\n",
    "#print fit parameters and 1-sigma estimates\n",
    "print('fit parameter 1-sigma error')\n",
    "print('***************************************************')\n",
    "print ('m = ' + str(popt[0])+' +- '+str(perr[0]))\n",
    "print ('c = ' + str(popt[1])+' +- '+str(perr[1]))\n",
    "print('***************************************************')\n",
    "\n",
    "# Now plot the fitted line:\n",
    "plt.plot(x, stLine((popt[0], popt[1]),x), color='red')\n"
   ]
  },
  {
   "cell_type": "code",
   "execution_count": null,
   "metadata": {},
   "outputs": [],
   "source": []
  },
  {
   "cell_type": "code",
   "execution_count": null,
   "metadata": {},
   "outputs": [],
   "source": []
  },
  {
   "cell_type": "code",
   "execution_count": null,
   "metadata": {},
   "outputs": [],
   "source": []
  },
  {
   "cell_type": "code",
   "execution_count": null,
   "metadata": {},
   "outputs": [],
   "source": []
  }
 ],
 "metadata": {
  "kernelspec": {
   "display_name": "Python 3",
   "language": "python",
   "name": "python3"
  },
  "language_info": {
   "codemirror_mode": {
    "name": "ipython",
    "version": 3
   },
   "file_extension": ".py",
   "mimetype": "text/x-python",
   "name": "python",
   "nbconvert_exporter": "python",
   "pygments_lexer": "ipython3",
   "version": "3.7.3"
  }
 },
 "nbformat": 4,
 "nbformat_minor": 2
}
